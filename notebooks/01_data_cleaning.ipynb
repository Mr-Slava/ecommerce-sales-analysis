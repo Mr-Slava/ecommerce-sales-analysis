{
 "cells": [
  {
   "cell_type": "code",
   "execution_count": 3,
   "id": "f7a08da1-ceb5-449d-beec-31ab3dc45fd4",
   "metadata": {
    "scrolled": true
   },
   "outputs": [
    {
     "name": "stdout",
     "output_type": "stream",
     "text": [
      "Размер: (541909, 8)\n",
      "<class 'pandas.core.frame.DataFrame'>\n",
      "RangeIndex: 541909 entries, 0 to 541908\n",
      "Data columns (total 8 columns):\n",
      " #   Column       Non-Null Count   Dtype  \n",
      "---  ------       --------------   -----  \n",
      " 0   InvoiceNo    541909 non-null  object \n",
      " 1   StockCode    541909 non-null  object \n",
      " 2   Description  540455 non-null  object \n",
      " 3   Quantity     541909 non-null  int64  \n",
      " 4   InvoiceDate  541909 non-null  object \n",
      " 5   UnitPrice    541909 non-null  float64\n",
      " 6   CustomerID   406829 non-null  float64\n",
      " 7   Country      541909 non-null  object \n",
      "dtypes: float64(2), int64(1), object(5)\n",
      "memory usage: 33.1+ MB\n",
      "Файл сохранен в: C:/Python Project/ecommerce-sales-analysis/data/processed/data_clean.csv\n"
     ]
    }
   ],
   "source": [
    "import pandas as pd\n",
    "import numpy as np\n",
    "import matplotlib.pyplot as plt\n",
    "import seaborn as sns\n",
    "\n",
    "# Произвожу настройку отображения\n",
    "pd.set_option(\"display.max_columns\", None)\n",
    "sns.set(style=\"whitegrid\")\n",
    "\n",
    "file_path = \"C:/Python Project/ecommerce-sales-analysis/data/raw/data.csv\"\n",
    "df = pd.read_csv(file_path, encoding = \"ISO-8859-1\")\n",
    "\n",
    "# Просмотр первых строк\n",
    "df.head()\n",
    "\n",
    "# Размер Датасета\n",
    "print(\"Размер:\", df.shape)\n",
    "\n",
    "df.info()\n",
    "\n",
    "# Проверка пропусков\n",
    "df.isnull().sum()\n",
    "\n",
    "# Удаление пустых строк CustomerID\n",
    "df = df[df[\"CustomerID\"].notnull()]\n",
    "\n",
    "# Удаление возврат (если Quantity < 0)\n",
    "df = df[df[\"Quantity\"] > 0]\n",
    "\n",
    "# Сброс индексов\n",
    "df.reset_index(drop=True, inplace = True)\n",
    "\n",
    "df[\"TotalPrice\"] = df[\"Quantity\"] * df[\"UnitPrice\"]\n",
    "\n",
    "#Проверка результата\n",
    "df.head()\n",
    "\n",
    "#Сохранение очищенных данных в data/processed/\n",
    "processed_path = \"C:/Python Project/ecommerce-sales-analysis/data/processed/data_clean.csv\"\n",
    "df.to_csv(processed_path, index = False)\n",
    "\n",
    "print(\"Файл сохранен в:\", processed_path)\n",
    "\n",
    "\n"
   ]
  },
  {
   "cell_type": "code",
   "execution_count": null,
   "id": "501388d9-89dc-4796-805a-a9496f8ff315",
   "metadata": {},
   "outputs": [],
   "source": []
  }
 ],
 "metadata": {
  "kernelspec": {
   "display_name": "Python 3 (ipykernel)",
   "language": "python",
   "name": "python3"
  },
  "language_info": {
   "codemirror_mode": {
    "name": "ipython",
    "version": 3
   },
   "file_extension": ".py",
   "mimetype": "text/x-python",
   "name": "python",
   "nbconvert_exporter": "python",
   "pygments_lexer": "ipython3",
   "version": "3.12.7"
  }
 },
 "nbformat": 4,
 "nbformat_minor": 5
}
